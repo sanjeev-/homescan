{
 "cells": [
  {
   "cell_type": "code",
   "execution_count": 1,
   "metadata": {
    "collapsed": true
   },
   "outputs": [],
   "source": [
    "from scraping_utils import *"
   ]
  },
  {
   "cell_type": "code",
   "execution_count": 2,
   "metadata": {
    "collapsed": false
   },
   "outputs": [
    {
     "name": "stdout",
     "output_type": "stream",
     "text": [
      "\u001b[0m\u001b[01;34mcsv_data\u001b[0m/                    \u001b[01;32m__init__.py\u001b[0m*         scraping_utils.pyc\r\n",
      "eppraisal_sold_homes.py      \u001b[01;32mload_properties.py\u001b[0m*  soldhomedata_20180207.csv\r\n",
      "\u001b[01;32mimage_filter_and_upload.py\u001b[0m*  \u001b[01;34m__pycache__\u001b[0m/         \u001b[01;32msold_homes_scrape.py\u001b[0m*\r\n",
      "\u001b[01;32mimage_utils.py\u001b[0m*              \u001b[01;32mremax_scrape.py\u001b[0m*     Untitled.ipynb\r\n",
      "image_utils.pyc              \u001b[01;32mscraping_utils.py\u001b[0m*\r\n"
     ]
    }
   ],
   "source": []
  },
  {
   "cell_type": "code",
   "execution_count": 5,
   "metadata": {
    "collapsed": true
   },
   "outputs": [],
   "source": [
    "from bs4 import BeautifulSoup\n",
    "from requests import get"
   ]
  },
  {
   "cell_type": "code",
   "execution_count": 6,
   "metadata": {
    "collapsed": true
   },
   "outputs": [],
   "source": [
    "url = 'https://www.eppraisal.com/recently-sold/nc/charlotte/?pg=1'"
   ]
  },
  {
   "cell_type": "code",
   "execution_count": 7,
   "metadata": {
    "collapsed": true
   },
   "outputs": [],
   "source": [
    "eppraisalsoup = BeautifulSoup(get(url).text,'html.parser')"
   ]
  },
  {
   "cell_type": "code",
   "execution_count": 8,
   "metadata": {
    "collapsed": false
   },
   "outputs": [
    {
     "data": {
      "text/plain": [
       "<!DOCTYPE doctype html>\n",
       "\n",
       "<html>\n",
       "<head>\n",
       "<meta charset=\"utf-8\">\n",
       "<meta content=\"width=device-width, initial-scale=1.0\" name=\"viewport\">\n",
       "<meta content=\"Research recent property sales in and around Charlotte, NC. | page 1\" name=\"description\" property=\"description\"/>\n",
       "<meta content=\"LgvqqTzYl176PCus2QoK3q1yPpxPrOaUhNRbu+fMwbo=\" name=\"verify-v1\"/>\n",
       "<meta content=\"Eppraisal\" name=\"author\"/>\n",
       "<meta content=\"Copyright (c) 2018 eppraisal.com.\" name=\"Copyright\"/>\n",
       "<meta content=\"Eppraisal\" property=\"og:site_name\"/>\n",
       "<meta content=\"company\" property=\"og:type\"/>\n",
       "<title>Recently Sold Homes in Charlotte, NC | page 1</title>\n",
       "<link href=\"/img/favicon.ico\" rel=\"shortcut icon\" type=\"image/x-icon\"/>\n",
       "<link href=\"//fonts.googleapis.com/css?family=Lato:300\" rel=\"stylesheet\" type=\"text/css\">\n",
       "<link href=\"/css/reset.css\" rel=\"stylesheet\" type=\"text/css\">\n",
       "<link href=\"/css/fonts.css\" rel=\"stylesheet\" type=\"text/css\">\n",
       "<link href=\"/css/style.css\" rel=\"stylesheet\" type=\"text/css\">\n",
       "<link href=\"https://www.eppraisal.com/recently-sold/nc/charlotte/?pg=1\" rel=\"canonical\"/>\n",
       "<link href=\"https://www.eppraisal.com/recently-sold/nc/charlotte/?pg=0\" rel=\"prev\"/>\n",
       "<link href=\"https://www.eppraisal.com/recently-sold/nc/charlotte/?pg=2\" rel=\"next\"/>\n",
       "<!--[if lte IE 9]>\n",
       "\t\t    <script type=\"text/javascript\" src=\"//cdnjs.cloudflare.com/ajax/libs/html5shiv/3.7.2/html5shiv.min.js\"></script>\n",
       "\t\t\t<script src=\"//cdnjs.cloudflare.com/ajax/libs/respond.js/1.4.2/respond.min.js\"></script>\n",
       "\t<![endif]-->\n",
       "<script async=\"\" src=\"https://www.googletagmanager.com/gtag/js?id=AW-995322241\"></script>\n",
       "<script>\n",
       "\t\t  window.dataLayer = window.dataLayer || [];\n",
       "\t\t  function gtag(){dataLayer.push(arguments);}\n",
       "\t\t  gtag('js', new Date());\n",
       "\n",
       "\t\t  gtag('config', 'AW-995322241');\n",
       "\t\t</script>\n",
       "</link></link></link></link></meta></meta></head>\n",
       "<body>\n",
       "<header id=\"header\" role=\"banner\">\n",
       "<div class=\"header-container container clearfix\">\n",
       "<nav>\n",
       "<button class=\"btn btn-blue menu-toggle .hidden-print\"> </button>\n",
       "<a class=\"logo\" href=\"/\"><img alt=\"eppraisal logo\" src=\"/img/logo.png\" title=\"eppraisal.com\"/></a>\n",
       "<ul class=\"submenu-add-shadow hidden-print\">\n",
       "<li class=\"nav-has-submenu \"><a class=\"active\" oldhref=\"/home-values/\">Homes</a>\n",
       "<ul class=\"submenu\">\n",
       "<li><a href=\"/articles/what-is-my-house-worth/\">What is my House Worth?</a></li>\n",
       "<li><a href=\"/recently-sold/\">Recently Sold Homes</a></li>\n",
       "<li><a href=\"/recently-sold/north-carolina/\">North Carolina Recently Sold Homes</a></li>\n",
       "<li><a href=\"/recently-sold/nc/charlotte/\">Charlotte Recently Sold Homes</a></li>\n",
       "<li><a href=\"/home-values/\">Home Value Trends</a></li>\n",
       "<li><a href=\"/articles/homevalues/\">Articles and Advice</a></li>\n",
       "</ul>\n",
       "</li>\n",
       "<li class=\"nav-has-submenu\"><a class=\"\" href=\"/mortgage-rates/\">Mortgages</a>\n",
       "<ul class=\"submenu\">\n",
       "<li><a href=\"/mortgage-rates/purchase/north-carolina/\">North Carolina Purchase Rates</a></li>\n",
       "<li><a href=\"/mortgage-rates/refinance/north-carolina/\">North Carolina Refinance Rates</a></li>\n",
       "<li><a href=\"/articles/mortgage/\">Articles And Advice</a></li>\n",
       "</ul>\n",
       "</li>\n",
       "<li class=\"nav-has-submenu\"> <a href=\"http://eppraisal.foreclosure.com/\" rel=\"nofollow\">Foreclosures</a>\n",
       "<ul class=\"submenu\">\n",
       "<li><a href=\"http://eppraisal.foreclosure.com/state/fl\" rel=\"nofollow\">Florida Foreclosures</a></li>\n",
       "<li><a href=\"http://eppraisal.foreclosure.com/state/ca\" rel=\"nofollow\">California Foreclosures</a></li>\n",
       "<li><a href=\"http://eppraisal.foreclosure.com/\" rel=\"nofollow\">Search Other Areas</a></li>\n",
       "</ul>\n",
       "</li>\n",
       "<li class=\"nav-has-submenu\"><a class=\"\" href=\"/pros/search/\">Pros</a>\n",
       "<ul class=\"submenu\">\n",
       "<li><a href=\"/pros/search/north-carolina/mortgage-broker/\">NC Mortgage Pros</a></li>\n",
       "<li><a href=\"/pros/search/north-carolina/real-estate-agent/\">NC Real Estate Agents</a></li>\n",
       "<li><a href=\"/pros/home-value-leads/\">Home Value Leads</a></li>\n",
       "<li><a href=\"/pros/signup/\">Become a Pro</a></li>\n",
       "<li><a href=\"http://try.eppraisal.com/seller-leads/\" rel=\"nofollow\">Seller Landing Pages</a></li>\n",
       "<li><a href=\"/signin/\">Sign In</a></li>\n",
       "</ul>\n",
       "</li>\n",
       "<li class=\"nav-has-form\"><a class=\"nav-search\" href=\"#\">Search</a>\n",
       "<form action=\"/home-values/property-lookup\" class=\"container clearfix\" id=\"AddressSearch\" method=\"get\">\n",
       "<a href=\"#\" onclick=\"$('#AddressSearch').toggle();\" style=\"width:100%;text-align:right;\">X</a>\n",
       "<input class=\"nav-search-input form-input\" id=\"a\" name=\"a\" placeholder=\"Street Address...\" type=\"text\">\n",
       "<input class=\"nav-search-input form-input\" id=\"z\" name=\"z\" placeholder=\"Zip Code or City/State...\" type=\"text\">\n",
       "<button class=\"nav-search-submit btn btn-yellow form-submit\" name=\"btnAddressSearch\" type=\"submit\">Search →</button>\n",
       "</input></input></form>\n",
       "</li>\n",
       "</ul>\n",
       "</nav>\n",
       "</div>\n",
       "<div class=\"wide-shadow\"></div>\n",
       "</header>\n",
       "<section class=\"hero-page\">\n",
       "<header class=\"container\">\n",
       "<h1 class=\"hero-title\">» Recently Sold Homes in Charlotte, NC </h1>\n",
       "</header>\n",
       "</section>\n",
       "<main class=\"main-page clearfix container\" role=\"main\">\n",
       "<article class=\"content\">\n",
       "<form action=\"/recently-sold/parse\" class=\"main-page-form\" method=\"get\">\n",
       "<div class=\"form-group form-group-home-values\">\n",
       "<input class=\"form-input\" id=\"location\" name=\"location\" placeholder=\"Enter City/State, Zip\" type=\"text\" value=\"Charlotte, Nc\">\n",
       "<select class=\"form-input form-select\" id=\"beds\" name=\"beds\" size=\"1\">\n",
       "<option value=\"0\">Beds</option>\n",
       "<option value=\"1\">1+</option>\n",
       "<option value=\"2\">2+</option>\n",
       "<option value=\"3\">3+</option>\n",
       "<option value=\"4\">4+</option>\n",
       "<option value=\"5\">5+</option>\n",
       "</select>\n",
       "<select class=\"form-input form-select\" id=\"baths\" name=\"baths\" size=\"1\">\n",
       "<option value=\"0\">Baths</option>\n",
       "<option value=\"1\">1+</option>\n",
       "<option value=\"2\">2+</option>\n",
       "<option value=\"3\">3+</option>\n",
       "<option value=\"4\">4+</option>\n",
       "<option value=\"5\">5+</option>\n",
       "</select>\n",
       "<button class=\"form-submit btn btn-yellow\" id=\"btnSearchRecent\" name=\"btnSearchRecent\" style=\"min-width:100px;margin-top:10px\" type=\"submit\">Search</button>\n",
       "</input></div>\n",
       "</form>\n",
       "<script async=\"\" src=\"//pagead2.googlesyndication.com/pagead/js/adsbygoogle.js\"></script>\n",
       "<ins class=\"adsbygoogle\" data-ad-client=\"ca-pub-6600127734768106\" data-ad-format=\"auto\" data-ad-slot=\"9278379062\" style=\"display:block\"></ins>\n",
       "<script>\n",
       "(adsbygoogle = window.adsbygoogle || []).push({});\n",
       "</script>\n",
       "<div class=\"clearfix\">\n",
       "<section class=\"panel \">\n",
       "<header>\n",
       "<h4 class=\"heading\">Recently Sold : charlotte, North Carolina</h4>\n",
       "</header>\n",
       "<div class=\"panel-content\">\n",
       "<table class=\"table info-table \">\n",
       "<tr>\n",
       "<th>Address</th>\n",
       "<th>Beds</th><th>Baths</th>\n",
       "<th>Sold Price</th>\n",
       "<th>Sold Date</th>\n",
       "</tr>\n",
       "<tr>\n",
       "<td>\n",
       "<a class=\"proplink\" href=\"/home-values/property-lookup?m=16833greenlawnhillsct28213\">\n",
       "16833 Greenlawn Hills Ct <br/>Charlotte, NC\n",
       "</a>\n",
       "</td>\n",
       "<td>2 </td>\n",
       "<td> 2.00</td>\n",
       "<td>\n",
       "$108,000\n",
       "</td>\n",
       "<td class=\"nowrap\">08-02-2017</td>\n",
       "</tr>\n",
       "<tr>\n",
       "<td>\n",
       "<a class=\"proplink\" href=\"/home-values/property-lookup?m=16849timbercrossingrd28213\">\n",
       "16849 Timber Crossing Rd <br/>Charlotte, NC\n",
       "</a>\n",
       "</td>\n",
       "<td>3 </td>\n",
       "<td> 2.00</td>\n",
       "<td>\n",
       "$149,000\n",
       "</td>\n",
       "<td class=\"nowrap\">08-02-2017</td>\n",
       "</tr>\n",
       "<tr>\n",
       "<td>\n",
       "<a style=\"color:grey\">\n",
       "1713 Poplarcrest Ln <br/>Charlotte, NC\n",
       "</a>\n",
       "</td>\n",
       "<td>- </td>\n",
       "<td> -</td>\n",
       "<td>\n",
       "$4,000\n",
       "</td>\n",
       "<td class=\"nowrap\">08-02-2017</td>\n",
       "</tr>\n",
       "<tr>\n",
       "<td>\n",
       "<a class=\"proplink\" href=\"/home-values/property-lookup?m=1720umsteadst28205\">\n",
       "1720 Umstead St <br/>Charlotte, NC\n",
       "</a>\n",
       "</td>\n",
       "<td>3 </td>\n",
       "<td> 3.00</td>\n",
       "<td>\n",
       "$425,000\n",
       "</td>\n",
       "<td class=\"nowrap\">08-02-2017</td>\n",
       "</tr>\n",
       "<tr>\n",
       "<td>\n",
       "<a class=\"proplink\" href=\"/home-values/property-lookup?m=2101jennielinndr28215\">\n",
       "2101 Jennie Linn Dr <br/>Charlotte, NC\n",
       "</a>\n",
       "</td>\n",
       "<td>2 </td>\n",
       "<td> 1.00</td>\n",
       "<td>\n",
       "$50,000\n",
       "</td>\n",
       "<td class=\"nowrap\">08-02-2017</td>\n",
       "</tr>\n",
       "<tr>\n",
       "<td>\n",
       "<a class=\"proplink\" href=\"/home-values/property-lookup?m=2137halfordpl28211\">\n",
       "2137 Halford Pl <br/>Charlotte, NC\n",
       "</a>\n",
       "</td>\n",
       "<td>5 </td>\n",
       "<td> 3.00</td>\n",
       "<td>\n",
       "$110,000\n",
       "</td>\n",
       "<td class=\"nowrap\">08-02-2017</td>\n",
       "</tr>\n",
       "<tr>\n",
       "<td>\n",
       "<a class=\"proplink\" href=\"/home-values/property-lookup?m=2323lindalouct28213\">\n",
       "2323 Linda Lou Ct <br/>Charlotte, NC\n",
       "</a>\n",
       "</td>\n",
       "<td>3 </td>\n",
       "<td> 2.00</td>\n",
       "<td>\n",
       "$133,000\n",
       "</td>\n",
       "<td class=\"nowrap\">08-02-2017</td>\n",
       "</tr>\n",
       "<tr>\n",
       "<td>\n",
       "<a class=\"proplink\" href=\"/home-values/property-lookup?m=241goffst28208\">\n",
       "241 Goff St <br/>Charlotte, NC\n",
       "</a>\n",
       "</td>\n",
       "<td>2 </td>\n",
       "<td> 1.00</td>\n",
       "<td>\n",
       "$42,000\n",
       "</td>\n",
       "<td class=\"nowrap\">08-02-2017</td>\n",
       "</tr>\n",
       "<tr>\n",
       "<td>\n",
       "<a class=\"proplink\" href=\"/home-values/property-lookup?m=247goffst28208\">\n",
       "247 Goff St <br/>Charlotte, NC\n",
       "</a>\n",
       "</td>\n",
       "<td>2 </td>\n",
       "<td> 1.00</td>\n",
       "<td>\n",
       "$42,000\n",
       "</td>\n",
       "<td class=\"nowrap\">08-02-2017</td>\n",
       "</tr>\n",
       "<tr>\n",
       "<td>\n",
       "<a class=\"proplink\" href=\"/home-values/property-lookup?m=2603millieln28205\">\n",
       "2603 Millie Ln <br/>Charlotte, NC\n",
       "</a>\n",
       "</td>\n",
       "<td>3 </td>\n",
       "<td> 2.00</td>\n",
       "<td>\n",
       "$493,000\n",
       "</td>\n",
       "<td class=\"nowrap\">08-02-2017</td>\n",
       "</tr>\n",
       "<tr><td colspan=\"5\">\n",
       "<script async=\"\" src=\"//pagead2.googlesyndication.com/pagead/js/adsbygoogle.js\"></script>\n",
       "<ins class=\"adsbygoogle\" data-ad-client=\"ca-pub-6600127734768106\" data-ad-format=\"auto\" data-ad-slot=\"9278379062\" style=\"display:block\"></ins>\n",
       "<script>\n",
       "\t\t\t\t\t\t\t\t\t\t\t(adsbygoogle = window.adsbygoogle || []).push({});\n",
       "\t\t\t\t\t\t\t\t\t\t\t</script>\n",
       "</td></tr></table></div>\n",
       "</section></div></article></main></body></html>\n",
       "<tr>\n",
       "<td>\n",
       "<a class=\"proplink\" href=\"/home-values/property-lookup?m=2638cloverhillln28215\">\n",
       "2638 Clover Hill Ln <br/>Charlotte, NC\n",
       "</a>\n",
       "</td>\n",
       "<td>3 </td>\n",
       "<td> 2.00</td>\n",
       "<td>\n",
       "$140,000\n",
       "</td>\n",
       "<td class=\"nowrap\">08-02-2017</td>\n",
       "</tr>\n",
       "<tr>\n",
       "<td>\n",
       "<a class=\"proplink\" href=\"/home-values/property-lookup?m=2700belvedereave28205\">\n",
       "2700 Belvedere Ave <br/>Charlotte, NC\n",
       "</a>\n",
       "</td>\n",
       "<td>4 </td>\n",
       "<td> 4.00</td>\n",
       "<td>\n",
       "$1,400,000\n",
       "</td>\n",
       "<td class=\"nowrap\">08-02-2017</td>\n",
       "</tr>\n",
       "<tr>\n",
       "<td>\n",
       "<a class=\"proplink\" href=\"/home-values/property-lookup?m=2701heidleburgln28210\">\n",
       "2701 Heidleburg Ln <br/>Charlotte, NC\n",
       "</a>\n",
       "</td>\n",
       "<td>3 </td>\n",
       "<td> 2.00</td>\n",
       "<td>\n",
       "$256,000\n",
       "</td>\n",
       "<td class=\"nowrap\">08-02-2017</td>\n",
       "</tr>\n",
       "<tr>\n",
       "<td>\n",
       "<a class=\"proplink\" href=\"/home-values/property-lookup?m=2720hilliarddr28205\">\n",
       "2720 Hilliard Dr <br/>Charlotte, NC\n",
       "</a>\n",
       "</td>\n",
       "<td>3 </td>\n",
       "<td> 3.00</td>\n",
       "<td>\n",
       "$433,000\n",
       "</td>\n",
       "<td class=\"nowrap\">08-02-2017</td>\n",
       "</tr>\n",
       "<tr>\n",
       "<td>\n",
       "<a class=\"proplink\" href=\"/home-values/property-lookup?m=2820grimesst28206\">\n",
       "2820 Grimes St <br/>Charlotte, NC\n",
       "</a>\n",
       "</td>\n",
       "<td>2 </td>\n",
       "<td> 1.00</td>\n",
       "<td>\n",
       "$75,000\n",
       "</td>\n",
       "<td class=\"nowrap\">08-02-2017</td>\n",
       "</tr>\n",
       "<tr>\n",
       "<td>\n",
       "<a class=\"proplink\" href=\"/home-values/property-lookup?m=2838nbrevardst28205\">\n",
       "2838 N Brevard St <br/>Charlotte, NC\n",
       "</a>\n",
       "</td>\n",
       "<td>2 </td>\n",
       "<td> 1.00</td>\n",
       "<td>\n",
       "$150,000\n",
       "</td>\n",
       "<td class=\"nowrap\">08-02-2017</td>\n",
       "</tr>\n",
       "<tr>\n",
       "<td>\n",
       "<a class=\"proplink\" href=\"/home-values/property-lookup?m=327wednesburyblvd28262\">\n",
       "327 Wednesbury Blvd <br/>Charlotte, NC\n",
       "</a>\n",
       "</td>\n",
       "<td>4 </td>\n",
       "<td> 2.00</td>\n",
       "<td>\n",
       "$295,000\n",
       "</td>\n",
       "<td class=\"nowrap\">08-02-2017</td>\n",
       "</tr>\n",
       "<tr>\n",
       "<td>\n",
       "<a class=\"proplink\" href=\"/home-values/property-lookup?m=3327tinkerbellln28210\">\n",
       "3327 Tinkerbell Ln <br/>Charlotte, NC\n",
       " </a>\n",
       "</td>\n",
       "<td>3 </td>\n",
       "<td> 2.00</td>\n",
       "<td>\n",
       "$422,000\n",
       "</td>\n",
       "<td class=\"nowrap\">08-02-2017</td>\n",
       "</tr>\n",
       "<tr>\n",
       "<td>\n",
       "<a class=\"proplink\" href=\"/home-values/property-lookup?m=3430chagallct28205\">\n",
       "3430 Chagall Ct <br/>Charlotte, NC\n",
       "</a>\n",
       "</td>\n",
       "<td>2 </td>\n",
       "<td> 2.00</td>\n",
       "<td>\n",
       "$238,000\n",
       "</td>\n",
       "<td class=\"nowrap\">08-02-2017</td>\n",
       "</tr>\n",
       "<tr>\n",
       "<td>\n",
       "<a style=\"color:grey\">\n",
       "3527 W Sugar Creek Rd <br/>Charlotte, NC\n",
       "</a>\n",
       "</td>\n",
       "<td>- </td>\n",
       "<td> -</td>\n",
       "<td>\n",
       "$10,000\n",
       "</td>\n",
       "<td class=\"nowrap\">08-02-2017</td>\n",
       "</tr>\n",
       "<tr>\n",
       "<td>\n",
       "<a style=\"color:grey\">\n",
       "3531 W Sugar Creek Rd <br/>Charlotte, NC\n",
       "</a>\n",
       "</td>\n",
       "<td>- </td>\n",
       "<td> -</td>\n",
       "<td>\n",
       "$10,000\n",
       "</td>\n",
       "<td class=\"nowrap\">08-02-2017</td>\n",
       "</tr>\n",
       "<tr>\n",
       "<td>\n",
       "<a class=\"proplink\" href=\"/home-values/property-lookup?m=3715sargeantdr28217\">\n",
       "3715 Sargeant Dr <br/>Charlotte, NC\n",
       "</a>\n",
       "</td>\n",
       "<td>3 </td>\n",
       "<td> 1.00</td>\n",
       "<td>\n",
       "$80,000\n",
       "</td>\n",
       "<td class=\"nowrap\">08-02-2017</td>\n",
       "</tr>\n",
       "<tr>\n",
       "<td>\n",
       "<a class=\"proplink\" href=\"/home-values/property-lookup?m=3815denmeadedr28269\">\n",
       "3815 Denmeade Dr <br/>Charlotte, NC\n",
       "</a>\n",
       "</td>\n",
       "<td>4 </td>\n",
       "<td> 2.00</td>\n",
       "<td>\n",
       "$321,000\n",
       "</td>\n",
       "<td class=\"nowrap\">08-02-2017</td>\n",
       "</tr>\n",
       "<tr>\n",
       "<td>\n",
       "<a class=\"proplink\" href=\"/home-values/property-lookup?m=4138atmorest28205\">\n",
       "4138 Atmore St <br/>Charlotte, NC\n",
       "</a>\n",
       "</td>\n",
       "<td>- </td>\n",
       "<td> -</td>\n",
       "<td>\n",
       "$150,000\n",
       "</td>\n",
       "<td class=\"nowrap\">08-02-2017</td>\n",
       "</tr>\n",
       "<tr>\n",
       "<td>\n",
       "<a class=\"proplink\" href=\"/home-values/property-lookup?m=435stryonst71028202\">\n",
       "\n",
       "435 S Tryon St <br/>Charlotte, NC\n",
       "</a>\n",
       "</td>\n",
       "<td>1 </td>\n",
       "<td> 1.00</td>\n",
       "<td>\n",
       "$325,000\n",
       "</td>\n",
       "<td class=\"nowrap\">08-02-2017</td>\n",
       "</tr>\n",
       "\n",
       "\n",
       "\n",
       "\n",
       "<div class=\"panel-footer\" style=\"text-align:center\">\n",
       "<p>\n",
       "<em style=\"font-size:12px\">Pg: 2 </em><br>\n",
       "<a href=\"./?pg=0\"> ← Prev Page</a> |\n",
       "<a href=\"./?pg=2\">Next Page →</a>\n",
       "</br></p>\n",
       "</div>\n",
       "<section class=\"states-list\">\n",
       "<h4 class=\"states-list-title\">Search Recent Home Sales in other States</h4>\n",
       "<div class=\"states-list-complete clearfix\">\n",
       "<ul>\n",
       "<li><a href=\"/recently-sold/alabama/\">Alabama</a></li>\n",
       "<li><a href=\"/recently-sold/alaska/\">Alaska</a></li>\n",
       "<li><a href=\"/recently-sold/arizona/\">Arizona</a></li>\n",
       "<li><a href=\"/recently-sold/arkansas/\">Arkansas</a></li>\n",
       "<li><a href=\"/recently-sold/california/\">California</a></li>\n",
       "<li><a href=\"/recently-sold/colorado/\">Colorado</a></li>\n",
       "<li><a href=\"/recently-sold/connecticut/\">Connecticut</a></li>\n",
       "<li><a href=\"/recently-sold/delaware/\">Delaware</a></li>\n",
       "<li><a href=\"/recently-sold/district-of-columbia/\">District of Columbia</a></li>\n",
       "<li><a href=\"/recently-sold/florida/\">Florida</a></li>\n",
       "<li><a href=\"/recently-sold/georgia/\">Georgia</a></li>\n",
       "</ul>\n",
       "<ul>\n",
       "<li><a href=\"/recently-sold/hawaii/\">Hawaii</a></li>\n",
       "<li><a href=\"/recently-sold/idaho/\">Idaho</a></li>\n",
       "<li><a href=\"/recently-sold/illinois/\">Illinois</a></li>\n",
       "<li><a href=\"/recently-sold/indiana/\">Indiana</a></li>\n",
       "<li><a href=\"/recently-sold/iowa/\">Iowa</a></li>\n",
       "<li><a href=\"/recently-sold/kansas/\">Kansas</a></li>\n",
       "<li><a href=\"/recently-sold/kentucky/\">Kentucky</a></li>\n",
       "<li><a href=\"/recently-sold/louisiana/\">Louisiana</a></li>\n",
       "<li><a href=\"/recently-sold/maine/\">Maine</a></li>\n",
       "<li><a href=\"/recently-sold/maryland/\">Maryland</a></li>\n",
       "<li><a href=\"/recently-sold/massachusetts/\">Massachusetts</a></li>\n",
       "</ul>\n",
       "<ul>\n",
       "<li><a href=\"/recently-sold/michigan/\">Michigan</a></li>\n",
       "<li><a href=\"/recently-sold/minnesota/\">Minnesota</a></li>\n",
       "<li><a href=\"/recently-sold/mississippi/\">Mississippi</a></li>\n",
       "<li><a href=\"/recently-sold/missouri/\">Missouri</a></li>\n",
       "<li><a href=\"/recently-sold/montana/\">Montana</a></li>\n",
       "<li><a href=\"/recently-sold/nebraska/\">Nebraska</a></li>\n",
       "<li><a href=\"/recently-sold/nevada/\">Nevada</a></li>\n",
       "<li><a href=\"/recently-sold/new-hampshire/\">New Hampshire</a></li>\n",
       "<li><a href=\"/recently-sold/new-jersey/\">New Jersey</a></li>\n",
       "<li><a href=\"/recently-sold/new-mexico/\">New Mexico</a></li>\n",
       "<li><a href=\"/recently-sold/new-york/\">New York</a></li>\n",
       "</ul>\n",
       "<ul>\n",
       "<li><a href=\"/recently-sold/north-carolina/\">North Carolina</a></li>\n",
       "<li><a href=\"/recently-sold/north-dakota/\">North Dakota</a></li>\n",
       "<li><a href=\"/recently-sold/ohio/\">Ohio</a></li>\n",
       "<li><a href=\"/recently-sold/oklahoma/\">Oklahoma</a></li>\n",
       "<li><a href=\"/recently-sold/oregon/\">Oregon</a></li>\n",
       "<li><a href=\"/recently-sold/pennsylvania/\">Pennsylvania</a></li>\n",
       "<li><a href=\"/recently-sold/rhode-island/\">Rhode Island</a></li>\n",
       "<li><a href=\"/recently-sold/south-carolina/\">South Carolina</a></li>\n",
       "<li><a href=\"/recently-sold/tennessee/\">Tennessee</a></li>\n",
       "<li><a href=\"/recently-sold/texas/\">Texas</a></li>\n",
       "</ul>\n",
       "<ul>\n",
       "<li><a href=\"/recently-sold/utah/\">Utah</a></li>\n",
       "<li><a href=\"/recently-sold/vermont/\">Vermont</a></li>\n",
       "<li><a href=\"/recently-sold/virginia/\">Virginia</a></li>\n",
       "<li><a href=\"/recently-sold/washington/\">Washington</a></li>\n",
       "<li><a href=\"/recently-sold/west-virginia/\">West Virginia</a></li>\n",
       "<li><a href=\"/recently-sold/wisconsin/\">Wisconsin</a></li>\n",
       "<li><a href=\"/recently-sold/wyoming/\">Wyoming</a></li>\n",
       "</ul>\n",
       "</div>\n",
       "</section>\n",
       "\n",
       "<aside>\n",
       "<div class=\"panel\">\n",
       "<div class=\"panel-content\">\n",
       "<script async=\"\" src=\"//pagead2.googlesyndication.com/pagead/js/adsbygoogle.js\"></script>\n",
       "<ins class=\"adsbygoogle\" data-ad-client=\"ca-pub-6600127734768106\" data-ad-slot=\"5498445061\" style=\"display:inline-block;width:300px;height:600px\"></ins>\n",
       "<script>\n",
       "(adsbygoogle = window.adsbygoogle || []).push({});\n",
       "</script>\n",
       "</div>\n",
       "</div>\n",
       "<section class=\"panel\">\n",
       "<header>\n",
       "<h4 class=\"heading\">Nearby Major Cities</h4>\n",
       "</header>\n",
       "<div class=\"panel-content\">\n",
       "<ul>\n",
       "<li><a class=\"lnk\" href=\"/recently-sold/nc/harrisburg/\">Harrisburg Home Sales</a></li>\n",
       "<li><a class=\"lnk\" href=\"/recently-sold/nc/mount-holly/\">Mount Holly Home Sales</a></li>\n",
       "<li><a class=\"lnk\" href=\"/recently-sold/nc/belmont/\">Belmont Home Sales</a></li>\n",
       "<li><a class=\"lnk\" href=\"/recently-sold/nc/pineville/\">Pineville Home Sales</a></li>\n",
       "<li><a class=\"lnk\" href=\"/recently-sold/nc/indian-trail/\">Indian Trail Home Sales</a></li>\n",
       "<li><a class=\"lnk\" href=\"/recently-sold/nc/huntersville/\">Huntersville Home Sales</a></li>\n",
       "<li><a class=\"lnk\" href=\"/recently-sold/nc/matthews/\">Matthews Home Sales</a></li>\n",
       "<li><a class=\"lnk\" href=\"/recently-sold/nc/cornelius/\">Cornelius Home Sales</a></li>\n",
       "</ul>\n",
       "</div>\n",
       "</section>\n",
       "<section class=\"panel ad-pros\">\n",
       "<header>\n",
       "<h4 class=\"heading\">\n",
       "Local Professional\n",
       "</h4>\n",
       "</header>\n",
       "<div class=\"panel-content\">\n",
       "<div class=\"pros-single-profile-details clearfix\">\n",
       "<figure class=\"ad-pros-photo\">\n",
       "<img alt=\"Todd King Real Estate\" src=\"/pros/profile_img/1422\" title=\"Todd King Real Estate\" width=\"96\">\n",
       "</img></figure>\n",
       "<p c_lass=\"ad-pros-info \">\n",
       "<h2><a href=\"/pros/nc/elizabeth-city/real-estate-agent/patsy-r.-mcgee-1422/\">\n",
       "Patsy R. Mcgee</a>\n",
       "</h2>\n",
       "<h3 class=\"pros-single-profile-company\" style=\"display:inline\">Todd King Real Estate</h3>\n",
       "<br/>(Real Estate Agent)\n",
       "<br/><a href=\"http://maps.google.com/?q=300 E. Church Street Elizabeth City, NC 27909\" rel=\"nofollow\" target=\"_blank\">\n",
       "300 E. Church Street</a>\n",
       "<br/>\n",
       "Elizabeth City, NC 27909\n",
       "</p>\n",
       "<span class=\"pros-single-profile-phones-office\">Office: (252) 338-1513</span>\n",
       "<br/>Fax: (252) 338-0892<br/>\n",
       "<a href=\"/index/transfer?proid=1422&amp;dest=http://www.toddkingrealestate.com/#source=eppraisal.com\" rel=\"nofollow\" target=\"_new\">http://www.toddkingrealestate.com/</a><br/>\n",
       "</div>\n",
       "<div class=\"ad-pros-signup\">\n",
       "<a href=\"/pros/signup/\">Become a Local Pro â</a>\n",
       "</div>\n",
       "</div>\n",
       "</section>\n",
       "</aside>\n",
       "\n",
       "<section class=\"pre-footer container main-page-description-small\">\n",
       "<p>\n",
       "Eppraisal provides a free valuation estimate of a property based on recent home sales and real estate trends in the area. On eppraisal you can get an instant home value estimates, view recent sales, and view current listings in your area.\n",
       "</p>\n",
       "<p class=\"informational main-page-description-small\">\n",
       "* This site uses data obtained from numerous public sources. Some areas of the country provide us with different levels of information. It is presented on an 'as is, as available' basis. This site makes no warranties, expressed\n",
       "or implied without limitation, to the information provided, nor is responsible for any errors or omissions.\n",
       "</p>\n",
       "</section>\n",
       "<footer role=\"contentinfo\">\n",
       "<nav class=\"footer-rich-nav-container container clearfix\">\n",
       "<div class=\"footer-rich-nav\">\n",
       "<h4 class=\"footer-rich-nav-title\">Real Estate</h4>\n",
       "<ul>\n",
       "<li><a href=\"/recently-sold/\">Search Sold Homes</a></li>\n",
       "<li><a href=\"/sell-your-home/\">Sell Your Home</a></li>\n",
       "<li><a href=\"/remodel/\">Home Improvement</a></li>\n",
       "</ul>\n",
       "</div>\n",
       "<div class=\"footer-rich-nav\">\n",
       "<h4 class=\"footer-rich-nav-title\">Mortgage</h4>\n",
       "<ul>\n",
       "<li><a href=\"/mortgage-rates/purchase/\">Purchase Rates</a></li>\n",
       "<li><a href=\"/mortgage-rates/refinance/\">Refinance Rates</a></li>\n",
       "<li><a href=\"/pros/search/all/mortgage-broker/\">Mortgage Pros</a></li>\n",
       "</ul>\n",
       "</div>\n",
       "<div class=\"footer-rich-nav\">\n",
       "<h4 class=\"footer-rich-nav-title\">Pros</h4>\n",
       "<ul>\n",
       "<li><a href=\"/pros/search/all/real-estate-agent/\">Real Estate Agents</a></li>\n",
       "<li><a href=\"/pros/search/california/real-estate-agent/\">California Agents</a></li>\n",
       "<li><a href=\"/pros/search/\">Search Pros</a></li>\n",
       "</ul>\n",
       "</div>\n",
       "<div class=\"footer-rich-nav\">\n",
       "<h4 class=\"footer-rich-nav-title\">Home Values</h4>\n",
       "<ul>\n",
       "<li><a href=\"/home-values/california/\">California Home Values</a></li>\n",
       "<li><a href=\"/home-values/florida/\">Florida Home Values</a></li>\n",
       "<li><a href=\"/home-values/georgia/\">Georgia Home Values</a></li>\n",
       "</ul>\n",
       "</div>\n",
       "</nav>\n",
       "<section class=\"footer-copy container\">\n",
       "<nav>\n",
       "<ul>\n",
       "<li><a class=\"\" href=\"/home-values/\">Home Values</a></li>\n",
       "<li><a href=\"/aboutus.aspx\">About Us</a></li>\n",
       "<li><a href=\"/contactus.aspx\">Contact Us</a></li>\n",
       "<li><a href=\"/termsofuse.aspx\" rel=\"nofollow\">Terms</a></li>\n",
       "<li><a href=\"/privacypolicy.aspx\" rel=\"nofollow\">Privacy</a></li>\n",
       "<li><a href=\"/faq.aspx\">Help</a></li>\n",
       "<li><a href=\"/api/signup/\">Valuation API</a></li>\n",
       "<li><a href=\"/pros/widgets/\">Widgets</a></li>\n",
       "</ul>\n",
       "</nav>\n",
       "<small>\n",
       "© 2018 Eppraisal.com - All Rights Reserved\n",
       "</small>\n",
       "</section>\n",
       "</footer>\n",
       "<script src=\"//ajax.googleapis.com/ajax/libs/jquery/1.12.4/jquery.min.js\"></script>\n",
       "<script src=\"/js/custom.js\" type=\"text/javascript\"></script>\n",
       "<!--[if lte IE 9]>\n",
       "\t\t\t\t<script type=\"text/javascript\" src=\"//cdnjs.cloudflare.com/ajax/libs/jquery-ajaxtransport-xdomainrequest/1.0.3/jquery.xdomainrequest.min.js\"></script> \n",
       "\t\t\t    <script type=\"text/javascript\" src=\"/js/jquery.placeholder.js\"></script>        \n",
       "\t\t\t    <script>\n",
       "\t\t\t  \t\t$(function(){\n",
       "\t\t\t  \t\t\t$(\"input[placeholder]\").placeholder();\n",
       "\t\t\t  \t\t});\n",
       "\t\t\t  \t\t</script>\n",
       "\t\t<![endif]-->\n",
       "<script src=\"/js/jquery.lazyload.min.js\" type=\"text/javascript\"></script>\n",
       "<script>\n",
       "$(function(){\n",
       "\t$(\"img.lazy\").lazyload({ \n",
       "    \teffect : \"fadeIn\",\n",
       "\t\tthreshold : 100\n",
       "\t});\n",
       "\t$(\"#btnSearchRecent\").click(function(){\n",
       "\t\t$(\"#btnSearchRecent\").text(\"Searching...\");\n",
       "\t\t});\n",
       "\t$(\"#beds\").val(\"0\");\n",
       "\t$(\"#baths\").val(\"0\");\n",
       "});\n",
       "</script>\n",
       "<script>\n",
       "\t  (function(i,s,o,g,r,a,m){i['GoogleAnalyticsObject']=r;i[r]=i[r]||function(){\n",
       "\t  (i[r].q=i[r].q||[]).push(arguments)},i[r].l=1*new Date();a=s.createElement(o),\n",
       "\t  m=s.getElementsByTagName(o)[0];a.async=1;a.src=g;m.parentNode.insertBefore(a,m)\n",
       "\t  })(window,document,'script','//www.google-analytics.com/analytics.js','ga');\n",
       "\t  ga('create', 'UA-87336-22', 'auto');\n",
       "\t  ga('send', 'pageview');\n",
       "\t</script>\n",
       "<script>\n",
       "\t\t  function log_event(cat,action){\n",
       "\t\t  \tga('send', 'event', { \n",
       "\t\t  \t\teventCategory: cat,\n",
       "\t\t  \t\teventAction: action,\n",
       "\t\t  \t\teventLabel: event.target.href\n",
       "\t\t\t\t});\n",
       "\t\t  }\n",
       "\t  </script>\n"
      ]
     },
     "execution_count": 8,
     "metadata": {},
     "output_type": "execute_result"
    }
   ],
   "source": [
    "eppraisalsoup"
   ]
  },
  {
   "cell_type": "code",
   "execution_count": 20,
   "metadata": {
    "collapsed": true
   },
   "outputs": [],
   "source": [
    "def get_property_urls_from_eplp(eppraisal_url):\n",
    "    \"\"\"This pulls a list of urls from the eppraisal site\n",
    "    \n",
    "    \"\"\"\n",
    "    BASE_URL = 'https://www.eppraisal.com'\n",
    "    eppraisal_soup = BeautifulSoup(get(eppraisal_url).text,'html.parser')\n",
    "    property_urls = []\n",
    "    for home in eppraisal_soup.find_all('a',class_='proplink'):\n",
    "        home_url_addon = home['href']\n",
    "        home_url = BASE_URL + home_url_addon\n",
    "        property_urls.append(home_url)\n",
    "    return property_urls\n",
    "        \n",
    "    "
   ]
  },
  {
   "cell_type": "code",
   "execution_count": 21,
   "metadata": {
    "collapsed": false
   },
   "outputs": [
    {
     "data": {
      "text/plain": [
       "'/home-values/property-lookup?m=16833greenlawnhillsct28213'"
      ]
     },
     "execution_count": 21,
     "metadata": {},
     "output_type": "execute_result"
    }
   ],
   "source": [
    "eppraisalsoup.find_all('a',class_='proplink')[0]['href']"
   ]
  },
  {
   "cell_type": "code",
   "execution_count": 29,
   "metadata": {
    "collapsed": true
   },
   "outputs": [],
   "source": [
    "def get_property_soup(property_url):\n",
    "    \"\"\"returns a bs4 soup object from a url \"\"\"\n",
    "    soup = BeautifulSoup(get(property_url).text,'html.parser')\n",
    "    return soup\n"
   ]
  },
  {
   "cell_type": "code",
   "execution_count": 24,
   "metadata": {
    "collapsed": false,
    "scrolled": true
   },
   "outputs": [],
   "source": [
    "urls = get_property_urls_from_eplp(url)"
   ]
  },
  {
   "cell_type": "code",
   "execution_count": 27,
   "metadata": {
    "collapsed": false
   },
   "outputs": [],
   "source": [
    "prop = get_property_soup(urls[0])"
   ]
  },
  {
   "cell_type": "code",
   "execution_count": 87,
   "metadata": {
    "collapsed": false
   },
   "outputs": [],
   "source": [
    "def scrape_eppraisal_home_page(home_url):\n",
    "    home = get_property_soup(home_url)\n",
    "    \n",
    "    "
   ]
  },
  {
   "cell_type": "code",
   "execution_count": 264,
   "metadata": {
    "collapsed": true
   },
   "outputs": [],
   "source": [
    "def find_sale_history_from_soup(soup):\n",
    "    \"\"\"Extracts the sale history from bs4 soup object\n",
    "    \n",
    "    Keyword arguments:\n",
    "        soup: [bs4 soup object] soup obj of property to scrape\n",
    "    \n",
    "    Returns:\n",
    "        sale_hist: [json] json object of dict of sale history\n",
    "    \n",
    "    \"\"\"\n",
    "    sales_hist_loop = soup.find_all('div',class_='panel-column panel-column-3')\n",
    "    sales_hist_dict = {}\n",
    "    for idx, item in enumerate(sales_hist_loop):\n",
    "        if 'Last Sold' in item.find_all('li')[0].text:\n",
    "            datestr = item.find_all('li')[0].text\n",
    "            date = str(datestr[datestr.find('Last Sold: ')+len('Last Sold: '):])\n",
    "            parsed_date = parser.parse(date).strftime('%Y%m%d')\n",
    "            salestr = sales_hist_loop[idx+1].text\n",
    "            sale = salestr[salestr.find('Sold Amt: $')+len('Sold Amt: $'):]\n",
    "            sale = int(sale.replace(',',''))\n",
    "            sales_hist_dict[parsed_date] = sale\n",
    "    sales_hist_json = json.dumps(sales_hist_dict)\n",
    "    return sales_hist_json\n",
    "    \n",
    "    "
   ]
  },
  {
   "cell_type": "code",
   "execution_count": 228,
   "metadata": {
    "collapsed": false
   },
   "outputs": [],
   "source": [
    "from dateutil import parser\n",
    "import json\n",
    "\n",
    "\n",
    "sales_hist_loop = prop.find_all('div',class_='panel-column panel-column-3')\n",
    "sales_hist_dict = {}\n",
    "for idx, item in enumerate(sales_hist_loop):\n",
    "    if 'Last Sold' in item.find_all('li')[0].text:\n",
    "        datestr = item.find_all('li')[0].text\n",
    "        date = str(datestr[datestr.find('Last Sold: ')+len('Last Sold: '):])\n",
    "        parsed_date = parser.parse(date,dayfirst=True).strftime('%Y%m%d')\n",
    "        salestr = sales_hist_loop[idx+1].text\n",
    "        sale = salestr[salestr.find('Sold Amt: $')+len('Sold Amt: $'):]\n",
    "        sale = int(sale.replace(',',''))\n",
    "        sales_hist_dict[parsed_date] = sale\n",
    "    \n",
    "        "
   ]
  },
  {
   "cell_type": "code",
   "execution_count": 229,
   "metadata": {
    "collapsed": false
   },
   "outputs": [
    {
     "data": {
      "text/plain": [
       "'{\"20170802\": 108000, \"20070702\": 107000}'"
      ]
     },
     "execution_count": 229,
     "metadata": {},
     "output_type": "execute_result"
    }
   ],
   "source": [
    "find_sale_history_from_soup(prop)"
   ]
  },
  {
   "cell_type": "code",
   "execution_count": 109,
   "metadata": {
    "collapsed": false
   },
   "outputs": [],
   "source": [
    "def get_address_from_soup(soup,city,state):\n",
    "    \"\"\"Pulls the address from the soup, checks with house canary API\n",
    "    \n",
    "    Keyword arguments:\n",
    "        soup: [bs4 soup obj] soup object of property to scrape\n",
    "        city: [string] city name of property e.g. Charlotte\n",
    "        state: [string] state (2 name abbr) of property e.g. NC\n",
    "    \n",
    "    \"\"\"\n",
    "    addr_string = soup.find_all('h1',class_='hero-title')[0].text.replace('»','').strip()\n",
    "    address_line_1 = addr[:addr.find(city)].strip()\n",
    "    state = state\n",
    "    city = city\n",
    "    unit = ''\n",
    "    zipcode = addr[addr.find(state)+len(state):].strip()\n",
    "    scrape_address = {\n",
    "        'address_line1': address_line_1,\n",
    "        'city': city,\n",
    "        'state': state,\n",
    "        'zipcode': zipcode,\n",
    "        'unit': unit, \n",
    "    }\n",
    "    response = canonicalizeAddress(scrape_address)\n",
    "    return response\n",
    "    "
   ]
  },
  {
   "cell_type": "code",
   "execution_count": 110,
   "metadata": {
    "collapsed": true
   },
   "outputs": [],
   "source": [
    "def canonicalizeAddress(remax_address_dict):\n",
    "    \"\"\"\n",
    "    this takes a dictionary of address data scraped from the remax website and calls the housecanary API\n",
    "    to make sure that all of the data is standardized\n",
    "    \n",
    "    input\n",
    "    \n",
    "    remax_address_dict [dict] {\n",
    "        address_line1: [string] steet number, street\n",
    "        unit: [int] (optional) unit no\n",
    "        state: [string] state, two letter abbreviation\n",
    "        zipcode: [int] - five number zipcode\n",
    "    }\n",
    "    \n",
    "    returns [dict] of street address info from the house canary API \n",
    "    \n",
    "    \"\"\"\n",
    "\n",
    "\n",
    "\n",
    "    hc_key = '9SJCA9DISJVUAVAS4QQQ'\n",
    "    hc_secret = '80vGOq9qYEy46a53XsUReFKpyvPK1owG' \n",
    "    if 'unit' in remax_address_dict:\n",
    "        params = {\n",
    "        \n",
    "        'address': remax_address_dict['address_line1'],\n",
    "        'state': remax_address_dict['state'],\n",
    "        'zipcode': remax_address_dict['zipcode'],\n",
    "        'city': remax_address_dict['city'],\n",
    "        'unit':remax_address_dict['unit']\n",
    "        }\n",
    "    else:\n",
    "\n",
    "        params = {\n",
    "            \n",
    "            'address': remax_address_dict['address_line1'],\n",
    "            'state': remax_address_dict['state'],\n",
    "            'zipcode': remax_address_dict['zipcode'],\n",
    "            'city': remax_address_dict['city'],\n",
    "        }\n",
    "    geocode_url = 'https://api.housecanary.com/v2/property/geocode'\n",
    "    response = requests.get(geocode_url, params=params, auth=(hc_key, hc_secret))\n",
    "    response = response.json()\n",
    "    return response"
   ]
  },
  {
   "cell_type": "code",
   "execution_count": 94,
   "metadata": {
    "collapsed": false
   },
   "outputs": [],
   "source": [
    "addr = prop.find_all('h1',class_='hero-title')[0].text.replace('»','').strip()"
   ]
  },
  {
   "cell_type": "code",
   "execution_count": 98,
   "metadata": {
    "collapsed": false
   },
   "outputs": [
    {
     "data": {
      "text/plain": [
       "'16833 Greenlawn Hills Ct'"
      ]
     },
     "execution_count": 98,
     "metadata": {},
     "output_type": "execute_result"
    }
   ],
   "source": [
    "addr[:addr.find('Charlotte')].strip()"
   ]
  },
  {
   "cell_type": "code",
   "execution_count": 103,
   "metadata": {
    "collapsed": false
   },
   "outputs": [
    {
     "data": {
      "text/plain": [
       "'28213'"
      ]
     },
     "execution_count": 103,
     "metadata": {},
     "output_type": "execute_result"
    }
   ],
   "source": [
    "addr[addr.find('NC')+len('NC'):].strip()"
   ]
  },
  {
   "cell_type": "code",
   "execution_count": 113,
   "metadata": {
    "collapsed": false,
    "scrolled": true
   },
   "outputs": [
    {
     "data": {
      "text/plain": [
       "[{'address_info': {'address': '16833 Greenlawn Hills Ct',\n",
       "   'address_full': '16833 Greenlawn Hills Ct Charlotte NC 28213',\n",
       "   'block_id': '371190056143006',\n",
       "   'blockgroup_id': '371190056143',\n",
       "   'city': 'Charlotte',\n",
       "   'county_fips': '37119',\n",
       "   'geo_precision': 'rooftop',\n",
       "   'lat': 35.3034,\n",
       "   'lng': -80.69021,\n",
       "   'metrodiv': None,\n",
       "   'msa': '16740',\n",
       "   'slug': '16833-Greenlawn-Hills-Ct-Charlotte-NC-28213',\n",
       "   'state': 'NC',\n",
       "   'status': {'changes': [],\n",
       "    'details': ['Address fully verified'],\n",
       "    'errors': [],\n",
       "    'match': True,\n",
       "    'requested_item': {'address': '16833 Greenlawn Hills Ct',\n",
       "     'city': 'Charlotte',\n",
       "     'state': 'NC',\n",
       "     'unit': '',\n",
       "     'zipcode': '28213'}},\n",
       "   'unit': None,\n",
       "   'zipcode': '28213',\n",
       "   'zipcode_plus4': '5985'},\n",
       "  'property/geocode': {'api_code': 0,\n",
       "   'api_code_description': 'ok',\n",
       "   'result': True}}]"
      ]
     },
     "execution_count": 113,
     "metadata": {},
     "output_type": "execute_result"
    }
   ],
   "source": [
    "get_address_from_soup(prop,'Charlotte','NC')"
   ]
  },
  {
   "cell_type": "code",
   "execution_count": 194,
   "metadata": {
    "collapsed": true
   },
   "outputs": [],
   "source": [
    "def get_bed_bath_sqft_from_soup(soup):\n",
    "    \"\"\"This pulls the number of beds, baths, and sq footage from prop\n",
    "    \n",
    "    Keyword arguments:\n",
    "        soup: [bs4 soup object] soup obj of property\n",
    "        \n",
    "    Returns:\n",
    "        listing_dict: dict with beds, baths, sq footage\n",
    "    \n",
    "    \"\"\"\n",
    "    loop = prop.find_all('div',class_='panel-column panel-column-1 propdesc')[0].find_all('li')\n",
    "    listing_data = {}\n",
    "    for line in loop:\n",
    "        if 'Beds' in line.text:\n",
    "            beds = int(line.text[line.text.find('Beds: ')+len('Beds: '):])\n",
    "            listing_data['num_bedrooms'] = beds\n",
    "        if 'Baths' in line.text:\n",
    "            baths = int(line.text[line.text.find('Baths: ')+len('Baths: '):])\n",
    "            listing_data['num_bathrooms'] = baths\n",
    "        if 'Sqft' in line.text:\n",
    "            sqft = int(line.text[line.text.find('Sqft: ')+len('Sqft: '):])\n",
    "            listing_data['building_area_sq_ft'] = sqft\n",
    "        if 'Lot Area (sq ft): ' in line.text:\n",
    "            lot_area_sqft = line.text[line.text.find('Lot Area (sq ft): ')+len('Lot Area (sq ft): '):]\n",
    "            listing_data['lot_area_sqft'] = lot_area_sqft\n",
    "        if 'Acres: ' in line.text:\n",
    "            lot_area_acres = float(line.text[line.text.find('Acres: ')+len('Acres: '):])\n",
    "            listing_data['lot_area_acres'] = lot_area_acres\n",
    "        if 'Fireplace: ' in line.text:\n",
    "            fireplace = line.text[line.text.find('Fireplace: ')+len('Fireplace: '):]\n",
    "            listing_data['fireplace' ] = fireplace\n",
    "        if 'Heat Type: ' in line.text:\n",
    "            heat_type = line.text[line.text.find('Heat Type: ')+len('Heat Type: '):]\n",
    "            listing_data['heat_type' ] = heat_type\n",
    "        if 'Roof Type: ' in line.text:\n",
    "            roof_type = line.text[line.text.find('Roof Type: ')+len('Roof Type: '):]\n",
    "            listing_data['roof_type' ] = fireplace\n",
    "        if 'Garage/Park sqft: ' in line.text:\n",
    "            garage_or_park_sqft = line.text[line.text.find('Garage/Park sqft: ')+len('Garage/Park sqft: '):]\n",
    "            listing_data['garage_or_park_sqft' ] = garage_or_park_sqft\n",
    "        if 'Basement Area: ' in line.text:\n",
    "            basement_area = line.text[line.text.find('Basement Area: ')+len('Basement Area: '):]\n",
    "            listing_data['basement_area' ] = basement_area\n",
    "        if 'Air Cond: ' in line.text:\n",
    "            air_conditioning = line.text[line.text.find('Air Cond: ')+len('Air Cond: '):]\n",
    "            listing_data['air_conditioning' ] = air_conditioning\n",
    "    return listing_data"
   ]
  },
  {
   "cell_type": "code",
   "execution_count": 195,
   "metadata": {
    "collapsed": false
   },
   "outputs": [],
   "source": [
    "loop = prop.find_all('div',class_='panel-column panel-column-1 propdesc')[0].find_all('li')\n"
   ]
  },
  {
   "cell_type": "code",
   "execution_count": 196,
   "metadata": {
    "collapsed": false
   },
   "outputs": [
    {
     "data": {
      "text/plain": [
       "True"
      ]
     },
     "execution_count": 196,
     "metadata": {},
     "output_type": "execute_result"
    }
   ],
   "source": [
    "'Beds' in loop[0].text"
   ]
  },
  {
   "cell_type": "code",
   "execution_count": 197,
   "metadata": {
    "collapsed": false
   },
   "outputs": [
    {
     "data": {
      "text/plain": [
       "[<li><strong>Beds:</strong> 2</li>,\n",
       " <li><strong>Baths:</strong> 2</li>,\n",
       " <li><strong>Sqft:</strong> 1094</li>,\n",
       " <li class=\"prop_more\"><strong>APN/Parcel:</strong> 05144907</li>,\n",
       " <li class=\"prop_more\"><strong>Lot Area (sq ft):</strong> -</li>,\n",
       " <li class=\"prop_more\"><strong>Acres:</strong> 0.0</li>,\n",
       " <li class=\"prop_more\"><strong>Fireplace:</strong> </li>,\n",
       " <li class=\"prop_more\"><strong>Basement Area:</strong> </li>,\n",
       " <li class=\"prop_more\"><strong>Heat Type:</strong> Yes</li>,\n",
       " <li class=\"prop_more\"><strong>Roof Type:</strong> </li>,\n",
       " <li class=\"prop_more\"><strong>Garage/Park sqft:</strong> </li>,\n",
       " <li class=\"prop_more\"><strong>Air Cond:</strong> Central</li>]"
      ]
     },
     "execution_count": 197,
     "metadata": {},
     "output_type": "execute_result"
    }
   ],
   "source": [
    "loop"
   ]
  },
  {
   "cell_type": "code",
   "execution_count": 198,
   "metadata": {
    "collapsed": false
   },
   "outputs": [
    {
     "data": {
      "text/plain": [
       "{'air_conditioning': 'Central',\n",
       " 'basement_area': '',\n",
       " 'building_area_sq_ft': 1094,\n",
       " 'fireplace': '',\n",
       " 'garage_or_park_sqft': '',\n",
       " 'heat_type': 'Yes',\n",
       " 'lot_area_acres': 0.0,\n",
       " 'lot_area_sqft': '-',\n",
       " 'num_bathrooms': 2,\n",
       " 'num_bedrooms': 2,\n",
       " 'roof_type': ''}"
      ]
     },
     "execution_count": 198,
     "metadata": {},
     "output_type": "execute_result"
    }
   ],
   "source": [
    "get_bed_bath_sqft_from_soup(prop)"
   ]
  },
  {
   "cell_type": "code",
   "execution_count": 218,
   "metadata": {
    "collapsed": true
   },
   "outputs": [],
   "source": [
    "def get_year_built_from_soup(soup):\n",
    "    \"\"\"Pulls the year the home was built from the bs4 soup obj\n",
    "    \"\"\"\n",
    "    sents = soup.find_all('p',class_=\"main-page-description\")[0].text.split('.')\n",
    "    year_list = list(range(1900,datetime.now().year))\n",
    "    year_list = [str(x) for x in year_list]\n",
    "    for sent in sents:\n",
    "        if 'Property records' in sent:\n",
    "            tokens = sent.split(' ')\n",
    "            for word in tokens:\n",
    "                if word in year_list:\n",
    "                    year_built = word\n",
    "                    return year_built\n",
    "    return None"
   ]
  },
  {
   "cell_type": "code",
   "execution_count": 203,
   "metadata": {
    "collapsed": false
   },
   "outputs": [],
   "source": [
    "sents = prop.find_all('p',class_=\"main-page-description\")[0].text.split('.')"
   ]
  },
  {
   "cell_type": "code",
   "execution_count": 217,
   "metadata": {
    "collapsed": false
   },
   "outputs": [
    {
     "name": "stdout",
     "output_type": "stream",
     "text": [
      "2007\n"
     ]
    }
   ],
   "source": [
    "year_list = list(range(1900,datetime.now().year))\n",
    "year_list = [str(x) for x in year_list]\n",
    "for sent in sents:\n",
    "    if 'Property records' in sent:\n",
    "        tokens = sent.split(' ')\n",
    "        for word in tokens:\n",
    "            if word in year_list:\n",
    "                print(word)"
   ]
  },
  {
   "cell_type": "code",
   "execution_count": 232,
   "metadata": {
    "collapsed": false
   },
   "outputs": [
    {
     "data": {
      "text/plain": [
       "'2007'"
      ]
     },
     "execution_count": 232,
     "metadata": {},
     "output_type": "execute_result"
    }
   ],
   "source": [
    "get_year_built_from_soup(prop)"
   ]
  },
  {
   "cell_type": "code",
   "execution_count": 233,
   "metadata": {
    "collapsed": true
   },
   "outputs": [],
   "source": [
    "json_yr = find_sale_history_from_soup(prop)"
   ]
  },
  {
   "cell_type": "code",
   "execution_count": 258,
   "metadata": {
    "collapsed": false
   },
   "outputs": [],
   "source": [
    "def get_last_sold_from_history(sale_hist_json):\n",
    "    \"\"\"Reads the sale history json and returns the last sell date\n",
    "    \"\"\"\n",
    "    d = json.loads(sale_hist_json)\n",
    "    d2 = {parser.parse(k): v for k, v in d.items()}\n",
    "    last_sold_date, last_sold_px = sorted(d2.items(),key=lambda x:x,reverse=True)[0]\n",
    "    return last_sold_date.strftime('%Y-%m-%d'), last_sold_px"
   ]
  },
  {
   "cell_type": "code",
   "execution_count": 251,
   "metadata": {
    "collapsed": false
   },
   "outputs": [],
   "source": [
    "d=json.loads(json_yr)"
   ]
  },
  {
   "cell_type": "code",
   "execution_count": 252,
   "metadata": {
    "collapsed": false
   },
   "outputs": [
    {
     "data": {
      "text/plain": [
       "dict_keys(['20170802', '20070702'])"
      ]
     },
     "execution_count": 252,
     "metadata": {},
     "output_type": "execute_result"
    }
   ],
   "source": [
    "d.keys()"
   ]
  },
  {
   "cell_type": "code",
   "execution_count": 253,
   "metadata": {
    "collapsed": false
   },
   "outputs": [
    {
     "data": {
      "text/plain": [
       "{'20070702': 107000, '20170802': 108000}"
      ]
     },
     "execution_count": 253,
     "metadata": {},
     "output_type": "execute_result"
    }
   ],
   "source": [
    "json.loads(json_yr)"
   ]
  },
  {
   "cell_type": "code",
   "execution_count": 254,
   "metadata": {
    "collapsed": true
   },
   "outputs": [],
   "source": [
    "d2 = {parser.parse(k): v for k, v in d.items()}"
   ]
  },
  {
   "cell_type": "code",
   "execution_count": 255,
   "metadata": {
    "collapsed": false
   },
   "outputs": [
    {
     "data": {
      "text/plain": [
       "{datetime.datetime(2007, 7, 2, 0, 0): 107000,\n",
       " datetime.datetime(2017, 8, 2, 0, 0): 108000}"
      ]
     },
     "execution_count": 255,
     "metadata": {},
     "output_type": "execute_result"
    }
   ],
   "source": [
    "d2"
   ]
  },
  {
   "cell_type": "code",
   "execution_count": 256,
   "metadata": {
    "collapsed": false
   },
   "outputs": [
    {
     "data": {
      "text/plain": [
       "(datetime.datetime(2017, 8, 2, 0, 0), 108000)"
      ]
     },
     "execution_count": 256,
     "metadata": {},
     "output_type": "execute_result"
    }
   ],
   "source": [
    "sorted(d2.items(),key=lambda x:x,reverse=True)[0]"
   ]
  },
  {
   "cell_type": "code",
   "execution_count": 259,
   "metadata": {
    "collapsed": false
   },
   "outputs": [],
   "source": [
    "last_sold, sold_px = get_last_sold_from_history(json_yr)"
   ]
  },
  {
   "cell_type": "code",
   "execution_count": 261,
   "metadata": {
    "collapsed": false
   },
   "outputs": [
    {
     "data": {
      "text/plain": [
       "108000"
      ]
     },
     "execution_count": 261,
     "metadata": {},
     "output_type": "execute_result"
    }
   ],
   "source": [
    "sold_px"
   ]
  },
  {
   "cell_type": "code",
   "execution_count": 262,
   "metadata": {
    "collapsed": true
   },
   "outputs": [],
   "source": [
    "prop2 = get_property_soup('https://www.eppraisal.com/home-values/property/2614-springs-dr-charlotte-nc-28226-92151712/')"
   ]
  },
  {
   "cell_type": "code",
   "execution_count": 267,
   "metadata": {
    "collapsed": false
   },
   "outputs": [
    {
     "data": {
      "text/plain": [
       "'{\"20170717\": 350000, \"20040430\": 243000}'"
      ]
     },
     "execution_count": 267,
     "metadata": {},
     "output_type": "execute_result"
    }
   ],
   "source": [
    "find_sale_history_from_soup(prop2)"
   ]
  },
  {
   "cell_type": "code",
   "execution_count": 275,
   "metadata": {
    "collapsed": true
   },
   "outputs": [],
   "source": [
    "def get_property_taxes_from_soup(soup):\n",
    "    \"\"\" Pulls last assessed property taxes and appraisal value from bs4\n",
    "    \"\"\"\n",
    "    loops = soup.find_all('div',class_=\"panel-column panel-column-3\")\n",
    "    for loop in loops:\n",
    "        if 'Property Taxes:' in loop.text:\n",
    "            tax = loop.text\n",
    "            tax_strip = tax[tax.find('Property Taxes: $')+len('Property Taxes: $'):]\n",
    "            return float(tax_strip.replace(',',''))\n",
    "            \n",
    "    "
   ]
  },
  {
   "cell_type": "code",
   "execution_count": 276,
   "metadata": {
    "collapsed": false
   },
   "outputs": [
    {
     "data": {
      "text/plain": [
       "1254.06"
      ]
     },
     "execution_count": 276,
     "metadata": {},
     "output_type": "execute_result"
    }
   ],
   "source": [
    "get_property_taxes_from_soup(prop)"
   ]
  },
  {
   "cell_type": "code",
   "execution_count": 277,
   "metadata": {
    "collapsed": true
   },
   "outputs": [],
   "source": [
    "def get_eppraisal__url_page(pg):\n",
    "    URL = 'eppraisal.com/recently-sold/nc/charlotte/?pg={}'.format(pg)\n",
    "    return URL"
   ]
  },
  {
   "cell_type": "code",
   "execution_count": 284,
   "metadata": {
    "collapsed": true
   },
   "outputs": [],
   "source": [
    "def scrape_eppraisal_home_page(home_url,city,state):\n",
    "    \"\"\"Runs through a list of URLs, scraping home data into a dict\n",
    "    \n",
    "    Keyword arguments:\n",
    "        home_url: [string] a url associated with a property\n",
    "        city: [string] city of the property being scraped\n",
    "        state: [string] state of the property being scraped\n",
    "    \n",
    "    Returns:\n",
    "    \"\"\"\n",
    "    \n",
    "    home = get_property_soup(home_url)\n",
    "    \n",
    "    h = {}\n",
    "    response = get_address_from_soup(home,city,state)[0]\n",
    "    address={}\n",
    "    address['address_line1'] = str(response['address_info']['address'])\n",
    "    address['city'] = str(response['address_info']['city'])\n",
    "    address['zipcode'] = str(response['address_info']['zipcode'])\n",
    "    address['state'] = str(response['address_info']['state'])\n",
    "    address['unit'] = str(response['address_info']['unit'])\n",
    "    address['lat'] = str(response['address_info']['lat'])\n",
    "    address['lon'] = str(response['address_info']['lng'])\n",
    "    address['slug'] = str(response['address_info']['slug'])\n",
    "    h['address'] = address\n",
    "    \n",
    "    l = get_bed_bath_sqft_from_soup(home)\n",
    "    \n",
    "    sale_price_history = find_sale_history_from_soup(home)\n",
    "    h['sold_price_history'] = sale_price_history\n",
    "    \n",
    "    h['listing_data'] = l\n",
    "    \n",
    "    tax = get_property_taxes_from_soup(home)\n",
    "    h['prop_taxes'] = tax\n",
    "    last_sold_date, last_sold_px = get_last_sold_from_history(sale_price_history)\n",
    "    h['year_built'] = get_year_built_from_soup(home)\n",
    "    h['last_sold_date'] = last_sold_date\n",
    "    h['last_sold_price'] = last_sold_px\n",
    "    return h"
   ]
  },
  {
   "cell_type": "code",
   "execution_count": 286,
   "metadata": {
    "collapsed": false
   },
   "outputs": [],
   "source": [
    "d = scrape_eppraisal_home_page(urls[4],'Charlotte','NC')"
   ]
  },
  {
   "cell_type": "code",
   "execution_count": 287,
   "metadata": {
    "collapsed": true
   },
   "outputs": [],
   "source": [
    "def flatten_dict(dd, separator='_', prefix=''):\n",
    "    return { prefix + separator + k if prefix else k : v\n",
    "             for kk, vv in dd.items()\n",
    "             for k, v in flatten_dict(vv, separator, kk).items()\n",
    "             } if isinstance(dd, dict) else { prefix : dd }"
   ]
  },
  {
   "cell_type": "code",
   "execution_count": 288,
   "metadata": {
    "collapsed": true
   },
   "outputs": [],
   "source": [
    "flat = flatten_dict(d)"
   ]
  },
  {
   "cell_type": "code",
   "execution_count": 289,
   "metadata": {
    "collapsed": false
   },
   "outputs": [
    {
     "data": {
      "text/plain": [
       "{'address_address_line1': '16833 Greenlawn Hills Ct',\n",
       " 'address_city': 'Charlotte',\n",
       " 'address_lat': '35.3034',\n",
       " 'address_lon': '-80.69021',\n",
       " 'address_slug': '16833-Greenlawn-Hills-Ct-Charlotte-NC-28213',\n",
       " 'address_state': 'NC',\n",
       " 'address_unit': 'None',\n",
       " 'address_zipcode': '28213',\n",
       " 'last_sold_date': '2017-08-02',\n",
       " 'last_sold_price': 110000,\n",
       " 'listing_data_air_conditioning': 'Central',\n",
       " 'listing_data_basement_area': '',\n",
       " 'listing_data_building_area_sq_ft': 1094,\n",
       " 'listing_data_fireplace': '',\n",
       " 'listing_data_garage_or_park_sqft': '',\n",
       " 'listing_data_heat_type': 'Yes',\n",
       " 'listing_data_lot_area_acres': 0.0,\n",
       " 'listing_data_lot_area_sqft': '-',\n",
       " 'listing_data_num_bathrooms': 2,\n",
       " 'listing_data_num_bedrooms': 2,\n",
       " 'listing_data_roof_type': '',\n",
       " 'prop_taxes': 12660.96,\n",
       " 'sold_price_history': '{\"20050419\": 727500, \"20170802\": 110000}',\n",
       " 'year_built': '1971'}"
      ]
     },
     "execution_count": 289,
     "metadata": {},
     "output_type": "execute_result"
    }
   ],
   "source": [
    "flat"
   ]
  },
  {
   "cell_type": "code",
   "execution_count": 280,
   "metadata": {
    "collapsed": false,
    "scrolled": true
   },
   "outputs": [
    {
     "data": {
      "text/plain": [
       "{'air_conditioning': 'Central',\n",
       " 'basement_area': '',\n",
       " 'building_area_sq_ft': 1094,\n",
       " 'fireplace': '',\n",
       " 'garage_or_park_sqft': '',\n",
       " 'heat_type': 'Yes',\n",
       " 'lot_area_acres': 0.0,\n",
       " 'lot_area_sqft': '-',\n",
       " 'num_bathrooms': 2,\n",
       " 'num_bedrooms': 2,\n",
       " 'roof_type': ''}"
      ]
     },
     "execution_count": 280,
     "metadata": {},
     "output_type": "execute_result"
    }
   ],
   "source": [
    "get_bed_bath_sqft_from_soup(prop)"
   ]
  },
  {
   "cell_type": "code",
   "execution_count": 281,
   "metadata": {
    "collapsed": false
   },
   "outputs": [
    {
     "data": {
      "text/plain": [
       "1254.06"
      ]
     },
     "execution_count": 281,
     "metadata": {},
     "output_type": "execute_result"
    }
   ],
   "source": [
    "get_property_taxes_from_soup(prop)"
   ]
  },
  {
   "cell_type": "code",
   "execution_count": 290,
   "metadata": {
    "collapsed": false
   },
   "outputs": [
    {
     "data": {
      "text/plain": [
       "'https://www.eppraisal.com/home-values/property-lookup?m=2137halfordpl28211'"
      ]
     },
     "execution_count": 290,
     "metadata": {},
     "output_type": "execute_result"
    }
   ],
   "source": [
    "urls[4]"
   ]
  },
  {
   "cell_type": "code",
   "execution_count": 292,
   "metadata": {
    "collapsed": false
   },
   "outputs": [
    {
     "data": {
      "text/plain": [
       "'16833-Greenlawn-Hills-Ct-Charlotte-NC-28213'"
      ]
     },
     "execution_count": 292,
     "metadata": {},
     "output_type": "execute_result"
    }
   ],
   "source": [
    "flat['address_slug']"
   ]
  },
  {
   "cell_type": "code",
   "execution_count": null,
   "metadata": {
    "collapsed": false
   },
   "outputs": [],
   "source": []
  },
  {
   "cell_type": "code",
   "execution_count": null,
   "metadata": {
    "collapsed": true
   },
   "outputs": [],
   "source": []
  }
 ],
 "metadata": {
  "anaconda-cloud": {},
  "kernelspec": {
   "display_name": "Python [conda root]",
   "language": "python",
   "name": "conda-root-py"
  },
  "language_info": {
   "codemirror_mode": {
    "name": "ipython",
    "version": 3
   },
   "file_extension": ".py",
   "mimetype": "text/x-python",
   "name": "python",
   "nbconvert_exporter": "python",
   "pygments_lexer": "ipython3",
   "version": "3.5.2"
  }
 },
 "nbformat": 4,
 "nbformat_minor": 1
}
